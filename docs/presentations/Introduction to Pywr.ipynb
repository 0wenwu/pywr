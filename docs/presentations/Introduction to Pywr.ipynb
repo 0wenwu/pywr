{
 "cells": [
  {
   "cell_type": "code",
   "execution_count": 1,
   "metadata": {
    "slideshow": {
     "slide_type": "skip"
    }
   },
   "outputs": [],
   "source": [
    "from IPython.display import Image"
   ]
  },
  {
   "cell_type": "markdown",
   "metadata": {
    "slideshow": {
     "slide_type": "slide"
    }
   },
   "source": [
    "# Introduction to Pywr\n",
    "\n",
    "## Pywr is a generalised network resource allocation model written in Python. \n",
    "## It aims to be fast, free, and extendable.\n",
    "\n",
    "\n",
    "### by James Tomlinson"
   ]
  },
  {
   "cell_type": "markdown",
   "metadata": {
    "slideshow": {
     "slide_type": "subslide"
    }
   },
   "source": [
    "# Overview\n",
    "\n",
    "This presentation covers:\n",
    "\n",
    "- A quick background to Pywr \n",
    "- A simple example model using the JSON format\n",
    "- An overview of how to extend Pywr "
   ]
  },
  {
   "cell_type": "markdown",
   "metadata": {
    "slideshow": {
     "slide_type": "slide"
    }
   },
   "source": [
    "# Background to Pywr\n",
    "\n",
    "- Pywr is a tool for **solving network resource allocation problems** at discrete timesteps using a linear programming approach. \n",
    "- It's principal application is in resource allocation in water supply networks, although other uses are conceivable.\n",
    "- Nodes in the network can be given constraints (e.g. minimum/maximum flows) and costs, and can be connected as required. \n",
    "- Parameters in the model can vary time according to boundary conditions (e.g. an inflow timeseries) or based on states in the model (e.g. the current volume of a reservoir).\n",
    "- Models can be developed using the Python API, either in a script or interactively using IPython/Jupyter. \n",
    "- Alternatively, models can be defined in a rich JSON-based document format.\n",
    "\n"
   ]
  },
  {
   "cell_type": "markdown",
   "metadata": {
    "slideshow": {
     "slide_type": "subslide"
    }
   },
   "source": [
    "# Networks networks networks\n",
    "\n",
    "![](pywr_d3.png)"
   ]
  },
  {
   "cell_type": "markdown",
   "metadata": {
    "slideshow": {
     "slide_type": "subslide"
    }
   },
   "source": [
    "# Design goals\n",
    "\n",
    "- Pywr is a tool for solving network resource allocation problems. \n",
    "     - Some similarities with other software packages such as WEAP, Wathnet and Aquator, but also has some significant differences.\n",
    "- Pywr’s principle design goals are that it is:\n",
    "     - Fast enough to handle large datasets, and large numbers of scenarios and function evaluations required by advanced decision making methodologies;\n",
    "     - Free to use without restriction – licenced under the GNU General Public Licence;\n",
    "     - Extendable – using the Python programming language to define complex operational rules and control model runs\n"
   ]
  },
  {
   "cell_type": "markdown",
   "metadata": {
    "slideshow": {
     "slide_type": "subslide"
    }
   },
   "source": [
    "# Conceptual Pywr model run\n",
    "\n",
    "The following is a pseudo-code conceptualisation of a Pywr model run. The actual code is a little (but not much!) more complicated.\n",
    "\n",
    "```python\n",
    "model = Model.load('mymodel.json')  # Load a model from a JSON definition.\n",
    "model.setup()  # Do some initial setup.\n",
    "for timestep in model.timesteps:\n",
    "    model.before()  # Update Nodes etc. before the solve this time-step.\n",
    "    model.solve()   # Allocate the resource around the network.\n",
    "    model.after()   # Update Nodes etc. after the solve this time-step.\n",
    "model.finish()  # Finalise anything (e.g. close files).\n",
    "```"
   ]
  },
  {
   "cell_type": "markdown",
   "metadata": {
    "slideshow": {
     "slide_type": "subslide"
    }
   },
   "source": [
    "# Technical overview\n",
    "\n",
    "- Native support for multiple scenarios. \n",
    "    - Not parallel execution but multiple scenarios can be run during a single simulation.\n",
    "    - Easy to define which data vary in which scenarios (most of your data does not vary!).\n",
    "    - Scenarios can be sliced for different runs and therefore can exploit batch runnning (multiple processors).\n",
    "- Resource agnostic.\n",
    "    - Primarily used for water networks.\n",
    "    - However, any resource flow could be modelled. Including multi-resource models.\n",
    "- JSON input file format.\n",
    "    - Models can be defined using a JSON format. \n",
    "    - This allows models to be shared (e.g. over the web), templated and manipulated by existing JSON tools."
   ]
  },
  {
   "cell_type": "markdown",
   "metadata": {
    "slideshow": {
     "slide_type": "subslide"
    }
   },
   "source": [
    "# Technical overview (2)\n",
    "\n",
    "- Native support for multiple scenarios. \n",
    "    - Not parallel execution but multiple scenarios can be run during a single simulation.\n",
    "    - Easy to define which data vary in which scenarios (most of your data does not vary!).\n",
    "    - Scenarios can be sliced for different runs and therefore can exploit batch runnning (multiple processors).\n",
    "- Resource agnostic.\n",
    "    - Primarily used for water networks.\n",
    "    - However, any resource flow could be modelled. Including multi-resource models.\n",
    "- JSON input file format.\n",
    "    - Models can be defined using a JSON format. \n",
    "    - This allows models to be shared (e.g. over the web), templated and manipulated by existing JSON tools."
   ]
  },
  {
   "cell_type": "markdown",
   "metadata": {
    "slideshow": {
     "slide_type": "slide"
    }
   },
   "source": [
    "# The most basic example\n",
    "\n",
    "Let's work through the most basic Pywr example. \n",
    "\n",
    "This example uses the Python API (as opposed to JSON input file)."
   ]
  },
  {
   "cell_type": "markdown",
   "metadata": {
    "slideshow": {
     "slide_type": "subslide"
    }
   },
   "source": [
    "First import the required classes from Pywr ..."
   ]
  },
  {
   "cell_type": "code",
   "execution_count": 2,
   "metadata": {
    "slideshow": {
     "slide_type": "-"
    }
   },
   "outputs": [],
   "source": [
    "from pywr.core import Model\n",
    "from pywr.nodes import Input, Output, Link\n",
    "from pywr.notebook import draw_graph\n"
   ]
  },
  {
   "cell_type": "markdown",
   "metadata": {
    "slideshow": {
     "slide_type": "fragment"
    }
   },
   "source": [
    "... create a new `Model` instance ..."
   ]
  },
  {
   "cell_type": "code",
   "execution_count": 3,
   "metadata": {
    "slideshow": {
     "slide_type": "-"
    }
   },
   "outputs": [],
   "source": [
    "model = Model()"
   ]
  },
  {
   "cell_type": "markdown",
   "metadata": {
    "slideshow": {
     "slide_type": "fragment"
    }
   },
   "source": [
    "... add some nodes ..."
   ]
  },
  {
   "cell_type": "code",
   "execution_count": 4,
   "metadata": {
    "slideshow": {
     "slide_type": "-"
    }
   },
   "outputs": [],
   "source": [
    "input_node = Input(model, name='Input')\n",
    "link_node = Link(model, name='Link')\n",
    "output_node = Output(model, name='Output')"
   ]
  },
  {
   "cell_type": "markdown",
   "metadata": {
    "slideshow": {
     "slide_type": "subslide"
    }
   },
   "source": [
    "... connect them together ...."
   ]
  },
  {
   "cell_type": "code",
   "execution_count": 5,
   "metadata": {
    "slideshow": {
     "slide_type": "-"
    }
   },
   "outputs": [],
   "source": [
    "input_node.connect(link_node)\n",
    "link_node.connect(output_node)"
   ]
  },
  {
   "cell_type": "markdown",
   "metadata": {
    "slideshow": {
     "slide_type": "fragment"
    }
   },
   "source": [
    "... and finally draw a representation of the network."
   ]
  },
  {
   "cell_type": "code",
   "execution_count": 6,
   "metadata": {
    "slideshow": {
     "slide_type": "-"
    }
   },
   "outputs": [
    {
     "data": {
      "application/javascript": [
       "$.getScript(\"http://d3js.org/d3.v3.min.js\", function () {\n",
       "// javascript jinja2 template for drawing a directional graph\n",
       "\n",
       "// internet explorer can't follow standards so we need some workarounds...\n",
       "var ua = window.navigator.userAgent;\n",
       "var browser;\n",
       "if ((ua.indexOf(\"MSIE\") != -1) || (ua.indexOf(\"Trident\") != -1)) {\n",
       "    browser = \"ie\";\n",
       "    var p = d3.selectAll(element).append(\"p\");\n",
       "    p.html(\"Warning: Internet Explorer doesn't support directional arrows on the graph.\");\n",
       "    p.style(\"color\", \"#d00\");\n",
       "} else {\n",
       "    browser = \"something better than ie\";\n",
       "}\n",
       "\n",
       "var graph = {'nodes': [{'name': 'Input', 'clss': ['input']}, {'name': 'Link', 'clss': ['link']}, {'name': 'Output', 'clss': ['output']}], 'links': [{'source': 0, 'target': 1}, {'source': 1, 'target': 2}]};\n",
       "\n",
       "var style = d3.selectAll(element).append(\"style\");\n",
       "style.html(\".node {    stroke-width: 1.5px;    stroke: #333;    fill: grey;}.node:hover {    stroke-width: 2.5px;    stroke: #222;}.node-input {    fill: dodgerblue;}.node-link {    fill: grey;}.node-output {    fill: gold;}.node-storage {    fill: firebrick;}.node-reservoir {    fill: firebrick;}\");\n",
       "\n",
       "var div = d3.selectAll(element).append(\"div\");\n",
       "\n",
       "var width = 500,\n",
       "    height = 100;\n",
       "\n",
       "var color = d3.scale.category20();\n",
       "\n",
       "var force = d3.layout.force()\n",
       "    .charge(-120)\n",
       "    .linkDistance(25)\n",
       "    .size([width, height]);\n",
       "\n",
       "// workaround for IE not sizing output correctly\n",
       "div.style(\"height\", height+\"px\")\n",
       "   .style(\"width\", width+\"px\");\n",
       "\n",
       "var svg = div.append(\"svg\")\n",
       "    .attr(\"width\", width)\n",
       "    .attr(\"height\", height);\n",
       "\n",
       "var posX = d3.scale.linear()\n",
       "    .range([0, width])\n",
       "    .domain([-100, 100]);\n",
       "\n",
       "var posY = d3.scale.linear()\n",
       "    .range([0, height])\n",
       "    .domain([100, -100]); // map-style, +ve is up\n",
       "\n",
       "// set initial node positions\n",
       "for (var i = 0; i < graph.nodes.length; i++) {\n",
       "    node = graph.nodes[i];\n",
       "    if (node.position != undefined) {\n",
       "        node.x = posX(node.position[0]);\n",
       "        node.y = posY(node.position[1]);\n",
       "        node.fixed = true;\n",
       "    } else {\n",
       "        node.fixed = false;\n",
       "    }\n",
       "}\n",
       "\n",
       "force\n",
       "  .nodes(graph.nodes)\n",
       "  .links(graph.links);\n",
       "\n",
       "// define end-arrow svg marker\n",
       "svg.append(\"svg:defs\").append(\"svg:marker\")\n",
       "  .attr(\"id\", \"end-arrow\")\n",
       "  .attr(\"viewBox\", \"0 -5 10 10\")\n",
       "  .attr(\"refX\", 6)\n",
       "  .attr(\"markerWidth\", 3.5)\n",
       "  .attr(\"markerHeight\", 3.5)\n",
       "  .attr(\"orient\", \"auto\")\n",
       ".append(\"svg:path\")\n",
       "  .attr(\"d\", \"M0,-5L10,0L0,5\")\n",
       "  .attr(\"fill\", \"#333\");\n",
       "\n",
       "if(browser == \"ie\") {\n",
       "    // internet explorer\n",
       "    var link = svg.selectAll(\".link\")\n",
       "      .data(graph.links)\n",
       "    .enter().append(\"line\")\n",
       "      .attr(\"class\", \"link\")\n",
       "      .style(\"stroke\", \"#333\")\n",
       "      .style(\"stroke-width\", 2);\n",
       "} else {\n",
       "    // firefox, etc.\n",
       "    var link = svg.selectAll(\".link\")\n",
       "      .data(graph.links)\n",
       "    .enter().append(\"svg:path\")\n",
       "      .attr(\"class\", \"link\")\n",
       "      .style(\"fill\", \"none\")\n",
       "      .style(\"stroke\", \"#333\")\n",
       "      .style(\"stroke-width\", 2)\n",
       "      .style(\"marker-end\", function(d) { return \"url(#end-arrow)\"; });\n",
       "}\n",
       "\n",
       "var node_size = 5;\n",
       "\n",
       "function dblclick(d) {\n",
       "  d3.select(this).classed(\"fixed\", d.fixed = false);\n",
       "}\n",
       "\n",
       "function dragstart(d) {\n",
       "  d3.select(this).classed(\"fixed\", d.fixed = true);\n",
       "}\n",
       "\n",
       "var drag = force.drag()\n",
       "    .on(\"dragstart\", dragstart);\n",
       "\n",
       "var node = svg.selectAll(\".node\")\n",
       "  .data(graph.nodes)\n",
       ".enter().append(\"circle\")\n",
       "  .attr(\"class\", \"node\")\n",
       "  .attr(\"r\", node_size)\n",
       "  .attr(\"class\", function(d) {\n",
       "      var clss = \"node\";\n",
       "      for (var i=0; i < d.clss.length; i++) {\n",
       "          clss += \" node-\"+d.clss[i];\n",
       "      };\n",
       "      return clss;\n",
       "  })\n",
       "  .on(\"dblclick\", dblclick)\n",
       "  .call(drag);\n",
       "\n",
       "node.append(\"title\")\n",
       "  .text(function(d) { return d.name; });\n",
       "\n",
       "function tick() {\n",
       "    if(browser == \"ie\") {\n",
       "        // internet explorer\n",
       "        link.attr(\"x1\", function(d) { return d.source.x; })\n",
       "            .attr(\"y1\", function(d) { return d.source.y; })\n",
       "            .attr(\"x2\", function(d) { return d.target.x; })\n",
       "            .attr(\"y2\", function(d) { return d.target.y; });\n",
       "    } else {\n",
       "        // firefox, etc.\n",
       "        link.attr(\"d\", function(d) {\n",
       "            var deltaX = d.target.x - d.source.x,\n",
       "                deltaY = d.target.y - d.source.y,\n",
       "                dist = Math.sqrt(deltaX * deltaX + deltaY * deltaY),\n",
       "                normX = deltaX / dist,\n",
       "                normY = deltaY / dist,\n",
       "                sourcePadding = node_size,\n",
       "                targetPadding = node_size + 3,\n",
       "                sourceX = d.source.x + (sourcePadding * normX),\n",
       "                sourceY = d.source.y + (sourcePadding * normY),\n",
       "                targetX = d.target.x - (targetPadding * normX),\n",
       "                targetY = d.target.y - (targetPadding * normY);\n",
       "            return \"M\" + sourceX + \",\" + sourceY + \"L\" + targetX + \",\" + targetY;\n",
       "        });\n",
       "    }\n",
       "\n",
       "    node.attr(\"transform\", function(d) {\n",
       "        return \"translate(\" + d.x + \",\" + d.y + \")\";\n",
       "    });\n",
       "}\n",
       "force.on(\"tick\", tick);\n",
       "\n",
       "force.start();});\n"
      ],
      "text/plain": [
       "<IPython.core.display.Javascript object>"
      ]
     },
     "metadata": {},
     "output_type": "display_data"
    }
   ],
   "source": [
    "draw_graph(model, height=100)"
   ]
  },
  {
   "cell_type": "code",
   "execution_count": 7,
   "metadata": {
    "slideshow": {
     "slide_type": "subslide"
    }
   },
   "outputs": [
    {
     "data": {
      "text/plain": [
       "array([ 0.])"
      ]
     },
     "execution_count": 7,
     "metadata": {},
     "output_type": "execute_result"
    }
   ],
   "source": [
    "model.run();\n",
    "\n",
    "output_node.flow"
   ]
  },
  {
   "cell_type": "markdown",
   "metadata": {
    "slideshow": {
     "slide_type": "fragment"
    }
   },
   "source": [
    "Update the input flow\n",
    "\n",
    "    - Maximum flow of 10 $Mm^3$/day.\n",
    "    - Negative cost induces a flow through the only route in the model."
   ]
  },
  {
   "cell_type": "code",
   "execution_count": 8,
   "metadata": {
    "slideshow": {
     "slide_type": "-"
    }
   },
   "outputs": [
    {
     "data": {
      "text/plain": [
       "array([ 10.])"
      ]
     },
     "execution_count": 8,
     "metadata": {},
     "output_type": "execute_result"
    }
   ],
   "source": [
    "input_node.max_flow = 10\n",
    "input_node.cost = -1\n",
    "\n",
    "model.run();\n",
    "output_node.flow"
   ]
  },
  {
   "cell_type": "markdown",
   "metadata": {
    "slideshow": {
     "slide_type": "subslide"
    }
   },
   "source": [
    "The most interesting behaviour comes where,\n",
    "\n",
    "- There are complex networks of interconnected nodes, and\n",
    "- The properties of the network (flows and costs) changes with time and state of the model.\n",
    "\n",
    "More on this later!\n"
   ]
  },
  {
   "cell_type": "markdown",
   "metadata": {
    "slideshow": {
     "slide_type": "slide"
    }
   },
   "source": [
    "# JSON Format\n",
    "\n",
    "Models can also be defined in an external file format rather than using the Python API. What is JSON?\n",
    "\n",
    "> JSON (JavaScript Object Notation) is a lightweight data-interchange format. \n",
    "> It is easy for humans to read and write.\n",
    "> It is easy for machines to parse and generate. \n",
    "\n",
    "\n"
   ]
  },
  {
   "cell_type": "markdown",
   "metadata": {
    "slideshow": {
     "slide_type": "subslide"
    }
   },
   "source": [
    "This is an example JSON document describing information about a person:\n",
    "\n",
    "```json\n",
    "{\n",
    "  \"firstName\": \"John\",\n",
    "  \"lastName\": \"Smith\",\n",
    "  \"age\": 25,\n",
    "  \"address\": {\n",
    "    \"streetAddress\": \"21 2nd Street\",\n",
    "    \"city\": \"New York\",\n",
    "    \"state\": \"NY\",\n",
    "    \"postalCode\": \"10021\"\n",
    "  },\n",
    "}\n",
    "```"
   ]
  },
  {
   "cell_type": "markdown",
   "metadata": {
    "slideshow": {
     "slide_type": "subslide"
    }
   },
   "source": [
    "\n",
    "The overall structure of the a Pywr model is given below. \n",
    "- The most important are the nodes and edges sections.\n",
    "\n",
    "```json\n",
    "{\n",
    "    \"metadata\": {},\n",
    "    \"timestepper\": {},\n",
    "    \"solver\": {},\n",
    "    \"scenarios\": [],\n",
    "    \"includes\": [], \n",
    "    \"nodes\": [],\n",
    "    \"edges\": [],\n",
    "    \"parameters\": {},\n",
    "    \"recorders\": {}\n",
    "}\n",
    "```"
   ]
  },
  {
   "cell_type": "markdown",
   "metadata": {
    "slideshow": {
     "slide_type": "subslide"
    }
   },
   "source": [
    "## Metadata\n",
    "\n",
    "The metadata section includes information about the model as key-value pairs. It is expected as a minimum to include a \"title\" and \"description\" and may additionally include keys such as \"author\".\n",
    "\n",
    "```json\n",
    "{\"metadata\": {\n",
    "    \"title\": \"Example\",\n",
    "    \"description\": \"An example for the documentation\",\n",
    "    \"author\": \"John Smith\"\n",
    "}}\n",
    "```\n"
   ]
  },
  {
   "cell_type": "markdown",
   "metadata": {
    "slideshow": {
     "slide_type": "subslide"
    }
   },
   "source": [
    "\n",
    "## Timestepper\n",
    "\n",
    "The timestepper defines the period a model is run for and the timestep used. It corresponds directly to the `pywr.core.Timestepper` instance on the model. It has three properties: the start date, end date and timestep.\n",
    "\n",
    "The example below describes a model that will run from 1st January 2016 to 31st December 2016 using a 7 day timestep.\n",
    "\n",
    "```json\n",
    "{\"timestepper\": {\n",
    "    \"start\": \"2016-01-01\",\n",
    "    \"end\": \"2016-12-31\",\n",
    "    \"timestep\": 7\n",
    "}}\n",
    "```\n",
    "\n"
   ]
  },
  {
   "cell_type": "markdown",
   "metadata": {
    "slideshow": {
     "slide_type": "subslide"
    }
   },
   "source": [
    "## Nodes\n",
    "\n",
    "The nodes section describes the nodes in the model. As a minimum a node must have a name and a type. \n",
    "\n",
    "There are two fundamental types of node in Pywr which have different properties:\n",
    "    - pywr.core.Node  \n",
    "    - pywr.core.Storage \n",
    "    \n",
    "    \n",
    " \n"
   ]
  },
  {
   "cell_type": "markdown",
   "metadata": {
    "slideshow": {
     "slide_type": "subslide"
    }
   },
   "source": [
    "## Non-storage nodes\n",
    "\n",
    "There are three fundamental non-storage nodes:\n",
    " - `input` nodes for adding flow to the network,\n",
    " - `link` nodes for transporting and constraining flow around the network, and\n",
    " - `output` nodes for removing flow from the network.\n",
    " "
   ]
  },
  {
   "cell_type": "markdown",
   "metadata": {
    "slideshow": {
     "slide_type": "subslide"
    }
   },
   "source": [
    "\n",
    "\n",
    "The Node type and it’s subtypes have a `max_flow` and `cost` property, both of which have default values.\n",
    "\n",
    "```json\n",
    "{\"nodes\": [\n",
    "    {\n",
    "        \"name\": \"groundwater\",\n",
    "        \"type\": \"input\",\n",
    "        \"max_flow\": 23.0,\n",
    "        \"cost\": 10.0\n",
    "    }\n",
    "]}\n",
    "```\n",
    "\n"
   ]
  },
  {
   "cell_type": "markdown",
   "metadata": {
    "slideshow": {
     "slide_type": "subslide"
    }
   },
   "source": [
    "In addition to the basic input, output and link types, subtypes can be created by specifying the appropriate name. \n",
    "\n",
    "- Some subtypes will provide additional properties; often these correspond directly to the keyword arguments of the class. \n",
    "- See the example of a `Catchment` type below which has a `flow` property rather than a `max_flow`: \n",
    "\n",
    "```json\n",
    "{\"nodes\": [\n",
    "    {\n",
    "        \"name\": \"my_catchment\",\n",
    "        \"type\": \"catchment\",\n",
    "        \"flow\": 23.0,\n",
    "        \"cost\": 10.0\n",
    "    }\n",
    "]}\n",
    "```\n"
   ]
  },
  {
   "cell_type": "markdown",
   "metadata": {
    "slideshow": {
     "slide_type": "subslide"
    }
   },
   "source": [
    "A second example, a river gauge which has a soft MRF constraint is demonstrated below. The `mrf` property is the minimum residual flow required, the `mrf_cost` is the cost applied to that minimum flow, and the `cost` property is the cost associated with the residual flow.\n",
    "\n",
    "\n",
    "```json\n",
    "{\"nodes\": [\n",
    "    {\n",
    "        \"name\": \"Teddington GS\",\n",
    "        \"type\": \"rivergauge\",\n",
    "        \"mrf\": 200.0,\n",
    "        \"cost\": 0.0,\n",
    "        \"mrf_cost\": -1000.0\n",
    "    }\n",
    "]}\n",
    "```\n"
   ]
  },
  {
   "cell_type": "markdown",
   "metadata": {
    "slideshow": {
     "slide_type": "subslide"
    }
   },
   "source": [
    "\n",
    "## Storage nodes\n",
    "\n",
    "The Storage type and it’s subtypes have a `max_volume`, `min_volume` and `initial_volume`, as well as `num_inputs` and `num_outputs`. The maximum and initial volumes must be specified, whereas the others have default values.\n",
    "\n",
    "```json\n",
    "{\"nodes\": [\n",
    "    {\n",
    "        \"name\": \"Big Wet Lake\",\n",
    "        \"type\": \"storage\",\n",
    "        \"max_volume\": 1000,\n",
    "        \"initial_volume\": 700,\n",
    "        \"min_volume\": 0,\n",
    "        \"num_inputs\": 1,\n",
    "        \"num_outputs\": 1,\n",
    "        \"cost\": -10.0\n",
    "    }\n",
    "]}\n",
    "```\n",
    "\n",
    "When defining a storage node with multiple inputs or outputs connections need to be made using the slot notation (discussed in the edges section).\n"
   ]
  },
  {
   "cell_type": "markdown",
   "metadata": {
    "slideshow": {
     "slide_type": "subslide"
    }
   },
   "source": [
    "\n",
    "## Edges\n",
    "\n",
    "The edges section describes the connections between nodes. As a minimum an edge is defined as a two-item list containing the names of the nodes to connect (given in the order corresponding to the direction of flow), e.g.:\n",
    "\n",
    "```json\n",
    "{\"edges\": [\n",
    "    [\"supply\", \"intermediate\"],\n",
    "    [\"intermediate\", \"demand\"]\n",
    "]}\n",
    "```\n",
    "\n",
    "Additionally the to and from slots can be specified. For example the code below connects reservoirA slot 2 to reservoirB slot 3.\n",
    "\n",
    "```json\n",
    "{\"edges\": [\n",
    "    [\"reservoirA\", \"reservoirB\", 2, 3]\n",
    "]}\n",
    "```\n"
   ]
  },
  {
   "cell_type": "markdown",
   "metadata": {
    "slideshow": {
     "slide_type": "subslide"
    }
   },
   "source": [
    "\n",
    "## Parameters\n",
    "\n",
    "Sometimes it is convenient to define a Parameter used in the model in the \"parameters\" section instead of inside a node, for instance if the parameter is needed by more than one node.\n",
    "\n",
    "```json\n",
    "{\n",
    "    \"nodes\": [\n",
    "        {\n",
    "            \"name\": \"groundwater\",\n",
    "            \"type\": \"input\",\n",
    "            \"max_flow\": \"gw_flow\"\n",
    "        }\n",
    "    ],\n",
    "    \"parameters\": [\n",
    "        {\n",
    "            \"name\": \"gw_flow\",\n",
    "            \"type\": \"constant\",\n",
    "            \"value\": 23.0\n",
    "        }\n",
    "    ]\n",
    "}\n",
    "```\n",
    "\n"
   ]
  },
  {
   "cell_type": "markdown",
   "metadata": {
    "slideshow": {
     "slide_type": "subslide"
    }
   },
   "source": [
    "Parameters can be more complicated than simple scalar values. For instance, a time varying parameter can be defined using a monthly or daily profile which repeats each year.\n",
    "\n",
    "```json\n",
    "{\"parameters\": [\n",
    "    {\n",
    "        \"name\": \"mrf_profile\",\n",
    "        \"type\": \"monthlyprofile\",\n",
    "        \"values\": [10, 10, 10, 10, 50, 50, 50, 50, 20, 20, 10, 10]\n",
    "    }\n",
    "]}\n",
    "```\n",
    "\n"
   ]
  },
  {
   "cell_type": "markdown",
   "metadata": {
    "slideshow": {
     "slide_type": "subslide"
    }
   },
   "source": [
    "### External data\n",
    "\n",
    "Instead of defining the data inline using the \"values\" property, external data can be referenced as below. The URL should be relative to the JSON document not the current working directory.\n",
    "\n",
    "```json\n",
    "{\"parameters\": [\n",
    "    {\n",
    "        \"name\": \"catchment_inflow\",\n",
    "        \"type\": \"dataframe\",\n",
    "        \"url\": \"data/catchmod_outputs_v2.csv\",\n",
    "        \"column\": \"Flow\",\n",
    "        \"index_col\": \"Date\",\n",
    "        \"parse_dates\": true\n",
    "    }\n",
    "]}\n",
    "```\n"
   ]
  },
  {
   "cell_type": "markdown",
   "metadata": {
    "slideshow": {
     "slide_type": "subslide"
    }
   },
   "source": [
    "## Putting it all together\n",
    "\n"
   ]
  },
  {
   "cell_type": "code",
   "execution_count": 12,
   "metadata": {},
   "outputs": [],
   "source": [
    "Model.loads(\"\"\"\n",
    "{\n",
    "    \"metadata\": {\"title\": \"Simple 1\", \"description\": \"A very simple example.\", \"minimum_version\": \"0.1\"},\n",
    "    \"timestepper\": {\"start\": \"2015-01-01\", \"end\": \"2015-12-31\", \"timestep\": 1},\n",
    "    \"nodes\": [\n",
    "        {\"name\": \"supply1\", \"type\": \"Input\", \"max_flow\": 15},\n",
    "        {\"name\": \"link1\",   \"type\": \"Link\"},\n",
    "        {\"name\": \"demand1\", \"type\": \"Output\",\"max_flow\": 10, \"cost\": -10}\n",
    "    ],\n",
    "    \"edges\": [\n",
    "        [\"supply1\", \"link1\"],\n",
    "        [\"link1\", \"demand1\"]\n",
    "    ]\n",
    "}\n",
    "\"\"\").run();"
   ]
  }
 ],
 "metadata": {
  "celltoolbar": "Slideshow",
  "kernelspec": {
   "display_name": "Python 3",
   "language": "python",
   "name": "python3"
  },
  "language_info": {
   "codemirror_mode": {
    "name": "ipython",
    "version": 3
   },
   "file_extension": ".py",
   "mimetype": "text/x-python",
   "name": "python",
   "nbconvert_exporter": "python",
   "pygments_lexer": "ipython3",
   "version": "3.6.3"
  }
 },
 "nbformat": 4,
 "nbformat_minor": 2
}
